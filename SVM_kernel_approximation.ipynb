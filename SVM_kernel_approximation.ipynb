{
 "cells": [
  {
   "cell_type": "code",
   "execution_count": null,
   "metadata": {
    "collapsed": true
   },
   "outputs": [],
   "source": [
    "#importing required packages\n",
    "import numpy as np\n",
    "import matplotlib.image as img\n",
    "import glob  \n",
    "import datetime as dt\n",
    "import time as time\n",
    "from sklearn import svm, pipeline\n",
    "from sklearn.kernel_approximation import Nystroem"
   ]
  },
  {
   "cell_type": "code",
   "execution_count": null,
   "metadata": {
    "collapsed": true
   },
   "outputs": [],
   "source": [
    "#loading train image data\n",
    "train_images = []\n",
    "for filename in glob.glob(\"/path to your folder/*.png\"):\n",
    "    cur_image = img.imread(filename, flatten = True)\n",
    "    train_images.append(cur_image)"
   ]
  },
  {
   "cell_type": "code",
   "execution_count": null,
   "metadata": {
    "collapsed": true,
    "scrolled": true
   },
   "outputs": [],
   "source": [
    "#converting the list into a numpy array\n",
    "train_images = np.asarray(train_images)\n",
    "\n",
    "#converting training images array into 2-D array\n",
    "n_sample, x, y = train_images.shape\n",
    "train_images = train_images.reshape(n_sample, x*y)\n",
    "\n",
    "#loading the  targets for the images\n",
    "train_targets = np.genfromtxt(\"/path to your folder/Train.csv\", delimiter = \",\")\n",
    "\n",
    "#Exploring csv file of labels\n",
    "print(\"CSV file of the labels :\\n \" , train_targets , \"\\n\")\n",
    "print(\"Shape of the file : \\n\" , train_targets.shape, \"\\n\")\n",
    "\n",
    "#getting only labels\n",
    "train_targets = train_targets[1:len(train_targets), 1]"
   ]
  },
  {
   "cell_type": "code",
   "execution_count": null,
   "metadata": {
    "collapsed": true,
    "scrolled": true
   },
   "outputs": [],
   "source": [
    "#loading test image data\n",
    "test_images = []\n",
    "for filename in glob.glob(\"/path to your folder/*.png\"):\n",
    "    cur_image = sm.imread(filename, flatten = True)\n",
    "    test_images.append(cur_image)"
   ]
  },
  {
   "cell_type": "code",
   "execution_count": null,
   "metadata": {
    "collapsed": true
   },
   "outputs": [],
   "source": [
    "#converting the list into a numpy array\n",
    "test_images = np.asarray(test_images)"
   ]
  },
  {
   "cell_type": "code",
   "execution_count": null,
   "metadata": {
    "collapsed": true
   },
   "outputs": [],
   "source": [
    "#converting test images array into 2-D array\n",
    "n_sample, x, y = test_images.shape\n",
    "test_images = test_images.reshape(n_sample, x*y)"
   ]
  },
  {
   "cell_type": "code",
   "execution_count": null,
   "metadata": {
    "collapsed": true,
    "scrolled": true
   },
   "outputs": [],
   "source": [
    "#creating Linear SVM classifier\n",
    "linear_svm = svm.LinearSVC(C = 100)\n",
    "\n",
    "#creating feature map for Fourier and Nystroem kernel approximation methods\n",
    "nystroem_feature_map = Nystroem(gamma = 0.031, random_state = 1)\n",
    "\n",
    "#creating pipelines for putting feature_map as input into Linear SVM\n",
    "nystroem_svm = pipeline.Pipeline([(\"feature_map\", nystroem_feature_map), (\"svm\", linear_svm)])\n",
    "\n",
    "n_components = np.array([1500, 2000])\n",
    "\n",
    "\n",
    "for idx, n in enumerate(n_components):\n",
    "    nystroem_svm.set_params(feature_map__n_components = n)\n",
    "    \n",
    "    #training the model\n",
    "    start = dt.datetime.now()\n",
    "    nystroem_svm.fit(train_images, train_targets)\n",
    "    print(\"Time taken to train model with n_components = {} : {}\".format(n, str(dt.datetime.now() - start)))\n",
    "    \n",
    "    #making the prediction on the test images\n",
    "    prediction = nystroem_svm.predict(test_images)\n",
    "    \n",
    "    #saving the results\n",
    "    name = \"pred\" + str(idx) + \".csv\"\n",
    "    np.savetxt(name, prediction, delimiter = \",\")"
   ]
  }
 ],
 "metadata": {
  "kernelspec": {
   "display_name": "Python [conda root]",
   "language": "python",
   "name": "conda-root-py"
  },
  "language_info": {
   "codemirror_mode": {
    "name": "ipython",
    "version": 3
   },
   "file_extension": ".py",
   "mimetype": "text/x-python",
   "name": "python",
   "nbconvert_exporter": "python",
   "pygments_lexer": "ipython3",
   "version": "3.5.3"
  }
 },
 "nbformat": 4,
 "nbformat_minor": 2
}
