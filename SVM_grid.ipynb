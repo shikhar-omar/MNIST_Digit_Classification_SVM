{
 "cells": [
  {
   "cell_type": "code",
   "execution_count": null,
   "metadata": {
    "collapsed": true
   },
   "outputs": [],
   "source": [
    "#importing required packages\n",
    "import numpy as np\n",
    "import matplotlib.image as img\n",
    "import matplotlib.pyplot as plt\n",
    "import glob  \n",
    "import datetime as dt\n",
    "from sklearn import svm, metrics"
   ]
  },
  {
   "cell_type": "code",
   "execution_count": null,
   "metadata": {
    "collapsed": true
   },
   "outputs": [],
   "source": [
    "#loading train image data\n",
    "train_images = []\n",
    "for filename in glob.glob(\"/path to your folder/*.png\"):\n",
    "    cur_image = img.imread(filename)\n",
    "    train_images.append(cur_image)"
   ]
  },
  {
   "cell_type": "code",
   "execution_count": null,
   "metadata": {
    "collapsed": true
   },
   "outputs": [],
   "source": [
    "#plotting some images \n",
    "for i in range(5):\n",
    "    plot = plt.imshow(train_images[i])\n",
    "    plt.show()"
   ]
  },
  {
   "cell_type": "code",
   "execution_count": null,
   "metadata": {
    "collapsed": true
   },
   "outputs": [],
   "source": [
    "#converting the list into a numpy array\n",
    "train_images = np.asarray(train_images)\n",
    "\n",
    "#converting training images array into 2-D array\n",
    "train_images = train_images[:,:,:,0]\n",
    "n_sample, x, y = train_images.shape\n",
    "train_images = train_images.reshape(n_sample, x*y)\n",
    "\n",
    "#loading the  targets for the images\n",
    "train_targets = np.genfromtxt(\"/path to your folder/Train.csv\", delimiter = \",\")\n",
    "\n",
    "#Exploring csv file of labels\n",
    "print(\"CSV file of the labels :\\n \" , train_targets , \"\\n\")\n",
    "print(\"Shape of the file : \\n\" , train_targets.shape, \"\\n\")\n",
    "\n",
    "#getting only labels\n",
    "train_targets = train_targets[1:len(train_targets), 1]"
   ]
  },
  {
   "cell_type": "code",
   "execution_count": null,
   "metadata": {
    "collapsed": true
   },
   "outputs": [],
   "source": [
    "#applying grid search, trying to find the best model \n",
    "\n",
    "#importing GridSearchCV package\n",
    "from sklearn.model_selection import GridSearchCV\n",
    "\n",
    "#setting parameters and their ranges(taking known best parameters due to limited computation power)\n",
    "gamma_range = np.array([0.05, 0.5])\n",
    "C_range = np.array([1, 5])\n",
    "parameters = {'kernel' : ['rbf'], 'C' : C_range, 'gamma' : gamma_range }\n",
    "\n",
    "#creating the classifiers\n",
    "svm_classifier = svm.SVC()\n",
    "grid_classifier = GridSearchCV(estimator = svm_classifier, param_grid = parameters, n_jobs = 1, verbose = 2)\n",
    "\n",
    "#training the models and calculating time for the training\n",
    "start_time = dt.datetime.now()\n",
    "\n",
    "print('Training for the models starts now : {}'.format(str(start_time)), '\\n')\n",
    "\n",
    "grid_classifier.fit(train_images, train_targets)\n",
    "\n",
    "run_time = dt.datetime.now() - start_time\n",
    "\n",
    "print('Time taken to train the models : {}'.format(str(run_time)), '\\n')\n",
    "\n",
    "#collecting the best parameters\n",
    "classifier = grid_classifier.best_estimator_\n",
    "params = grid_classifier.best_params_\n",
    "\n",
    "#showing the scores of all the models\n",
    "scores = grid_classifier.cv_results_['mean_test_score'].reshape(len(C_range), len(gamma_range))\n",
    "print(\"Scores of all the models : \\n\", scores.ravel(), '\\n')"
   ]
  },
  {
   "cell_type": "code",
   "execution_count": null,
   "metadata": {
    "collapsed": true
   },
   "outputs": [],
   "source": [
    "#now, predicting the test data\n",
    "\n",
    "#loading test image data\n",
    "test_images = []\n",
    "for filename in glob.glob(\"/path to your folder/*.png\"):\n",
    "    cur_image = img.imread(filename)\n",
    "    test_images.append(cur_image)\n",
    "    \n",
    "#converting the list into a numpy array\n",
    "test_images = np.asarray(test_images)\n",
    "\n",
    "#converting test images array into 2-D array\n",
    "test_images = test_images[:,:,:,0]\n",
    "n_sample, x, y = test_images.shape\n",
    "test_images = test_images.reshape(n_sample, x*y)\n",
    "\n",
    "#predicting the targets\n",
    "predicted_targets = classifier.predict(test_images)"
   ]
  },
  {
   "cell_type": "code",
   "execution_count": null,
   "metadata": {
    "collapsed": true
   },
   "outputs": [],
   "source": [
    "#saving results in a .csv file\n",
    "np.savetxt(\"prediction.csv\", predicted_targets, delimiter = ',')"
   ]
  }
 ],
 "metadata": {
  "kernelspec": {
   "display_name": "Python [conda root]",
   "language": "python",
   "name": "conda-root-py"
  },
  "language_info": {
   "codemirror_mode": {
    "name": "ipython",
    "version": 3
   },
   "file_extension": ".py",
   "mimetype": "text/x-python",
   "name": "python",
   "nbconvert_exporter": "python",
   "pygments_lexer": "ipython3",
   "version": "3.5.3"
  }
 },
 "nbformat": 4,
 "nbformat_minor": 2
}
