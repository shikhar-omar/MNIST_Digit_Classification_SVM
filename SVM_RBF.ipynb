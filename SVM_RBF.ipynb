{
 "cells": [
  {
   "cell_type": "code",
   "execution_count": null,
   "metadata": {
    "collapsed": true
   },
   "outputs": [],
   "source": [
    "#importing required packages\n",
    "import numpy as np\n",
    "import matplotlib.image as img\n",
    "import matplotlib.pyplot as plt\n",
    "import glob  \n",
    "import datetime as dt\n",
    "from sklearn import svm, metrics"
   ]
  },
  {
   "cell_type": "code",
   "execution_count": null,
   "metadata": {
    "collapsed": true
   },
   "outputs": [],
   "source": [
    "#loading train image data\n",
    "train_images = []\n",
    "for filename in glob.glob(\"/path to your folder/*.png\"):\n",
    "    cur_image = img.imread(filename)\n",
    "    train_images.append(cur_image)"
   ]
  },
  {
   "cell_type": "code",
   "execution_count": null,
   "metadata": {},
   "outputs": [],
   "source": [
    "#plotting some images \n",
    "for i in range(5):\n",
    "    plot = plt.imshow(train_images[i])\n",
    "    plt.show()"
   ]
  },
  {
   "cell_type": "code",
   "execution_count": null,
   "metadata": {},
   "outputs": [],
   "source": [
    "#converting the list into a numpy array\n",
    "train_images = np.asarray(train_images)\n",
    "\n",
    "#converting training images array into 2-D array\n",
    "train_images = train_images[:,:,:,0]\n",
    "n_sample, x, y = train_images.shape\n",
    "train_images = train_images.reshape(n_sample, x*y)\n",
    "\n",
    "#loading the  targets for the images\n",
    "train_targets = np.genfromtxt(\"/path to your folder/Train.csv\", delimiter = \",\")\n",
    "\n",
    "#Exploring csv file of labels\n",
    "print(\"CSV file of the labels :\\n \" , train_targets , \"\\n\")\n",
    "print(\"Shape of the file : \\n\" , train_targets.shape, \"\\n\")\n",
    "\n",
    "#getting only labels\n",
    "train_targets = train_targets[1:len(train_targets), 1]"
   ]
  },
  {
   "cell_type": "code",
   "execution_count": null,
   "metadata": {
    "collapsed": true
   },
   "outputs": [],
   "source": [
    "#creating the classifiers\n",
    "svm_classifier = svm.SVC(gamma = 0.05, C = 5)"
   ]
  },
  {
   "cell_type": "code",
   "execution_count": null,
   "metadata": {
    "scrolled": true
   },
   "outputs": [],
   "source": [
    "#training the models and calculating time for the training\n",
    "start_time = dt.datetime.now()\n",
    "\n",
    "print('Training for the models starts now : {}'.format(str(start_time)), '\\n')\n",
    "\n",
    "svm_classifier.fit(train_images, train_targets)\n",
    "\n",
    "run_time = dt.datetime.now() - start_time\n",
    "\n",
    "print('Time taken to train the models : {}'.format(str(run_time)), '\\n')"
   ]
  },
  {
   "cell_type": "code",
   "execution_count": null,
   "metadata": {
    "collapsed": true
   },
   "outputs": [],
   "source": [
    "#loading test image data\n",
    "test_images = []\n",
    "for filename in glob.glob(\"/path to your folder/*.png\"):\n",
    "    cur_image = img.imread(filename)\n",
    "    test_images.append(cur_image)\n",
    "    \n",
    "#converting the list into a numpy array\n",
    "test_images = np.asarray(test_images)\n",
    "\n",
    "#converting test images array into 2-D array\n",
    "test_images = test_images[:,:,:,0]\n",
    "n_sample, x, y = test_images.shape\n",
    "test_images = test_images.reshape(n_sample, x*y)"
   ]
  },
  {
   "cell_type": "code",
   "execution_count": null,
   "metadata": {
    "collapsed": true
   },
   "outputs": [],
   "source": [
    "#predicting the targets\n",
    "predicted_targets = svm_classifier.predict(test_images)"
   ]
  },
  {
   "cell_type": "code",
   "execution_count": null,
   "metadata": {
    "collapsed": true
   },
   "outputs": [],
   "source": [
    "#saving results in a .csv file\n",
    "np.savetxt(\"prediction.csv\", predicted_targets, delimiter = ',')"
   ]
  }
 ],
 "metadata": {
  "kernelspec": {
   "display_name": "Python [conda root]",
   "language": "python",
   "name": "conda-root-py"
  },
  "language_info": {
   "codemirror_mode": {
    "name": "ipython",
    "version": 3
   },
   "file_extension": ".py",
   "mimetype": "text/x-python",
   "name": "python",
   "nbconvert_exporter": "python",
   "pygments_lexer": "ipython3",
   "version": "3.5.3"
  }
 },
 "nbformat": 4,
 "nbformat_minor": 2
}
